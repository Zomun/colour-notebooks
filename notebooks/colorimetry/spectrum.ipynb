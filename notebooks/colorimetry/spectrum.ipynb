{
 "cells": [
  {
   "cell_type": "markdown",
   "metadata": {},
   "source": [
    "# Spectrum"
   ]
  },
  {
   "cell_type": "markdown",
   "metadata": {},
   "source": [
    "[Colour](http://en.wikipedia.org/wiki/Colour) is defined as the characteristic of visual perception that can be described by attributes of hue, brightness (or lightness) and colourfulness (or saturation or chroma).\n",
    "\n",
    "When necessary, to avoid confusion between other meanings of the word, the term \"perceived colour\" may be used.\n",
    "\n",
    "Perceived colour depends on the spectral distribution of the colour stimulus, on the size, shape, structure and surround of the stimulus area, on the state of adaptation of the observer's visual system, and on the observer's experience of the prevailing and similar situations of observation. <a name=\"back_reference_1\"></a><a href=\"#reference_1\">[1]</a>\n",
    "\n",
    "[Light](http://en.wikipedia.org/wiki/Light) is the electromagnetic radiation that is considered from the point of view of its ability to excite the human visual system. <a name=\"back_reference_2\"></a><a href=\"#reference_2\">[2]</a>\n",
    "\n",
    "The portion of the electromatic radiation frequencies perceived in the approximate wavelength range 360-780 nanometres (nm) is called the [visible spectrum](http://en.wikipedia.org/wiki/Visible_spectrum)."
   ]
  },
  {
   "cell_type": "code",
   "execution_count": 1,
   "metadata": {},
   "outputs": [],
   "source": [
    "import colour\n",
    "from colour.plotting import *\n",
    "\n",
    "colour_style();"
   ]
  },
  {
   "cell_type": "code",
   "execution_count": 2,
   "metadata": {},
   "outputs": [
    {
     "data": {
      "image/png": "[encoded data removed]",
      "text/plain": [
       "<Figure size 432x288 with 1 Axes>"
      ]
     },
     "metadata": {
      "needs_background": "light"
     },
     "output_type": "display_data"
    }
   ],
   "source": [
    "# Plotting the visible spectrum.\n",
    "plot_visible_spectrum();"
   ]
  },
  {
   "cell_type": "markdown",
   "metadata": {},
   "source": [
    "The spectrum is defined as the display or specification of the monochromatic components of the radiation considered. <a name=\"back_reference_3\"></a><a href=\"#reference_3\">[3]</a>\n",
    "\n",
    "At the core of [Colour](https://github.com/colour-science/colour/) is the `colour.colorimetry` sub-package, it defines the objects needed for spectral related computations and many others:"
   ]
  },
  {
   "cell_type": "code",
   "execution_count": 3,
   "metadata": {},
   "outputs": [
    {
     "name": "stdout",
     "output_type": "stream",
     "text": [
      "['SpectralShape',\n",
      " 'DEFAULT_SPECTRAL_SHAPE',\n",
      " 'SpectralDistribution',\n",
      " 'MultiSpectralDistribution',\n",
      " 'sd_blackbody',\n",
      " 'blackbody_spectral_radiance',\n",
      " 'planck_law',\n",
      " 'LMS_ConeFundamentals',\n",
      " 'RGB_ColourMatchingFunctions',\n",
      " 'XYZ_ColourMatchingFunctions',\n",
      " 'CMFS',\n",
      " 'LMS_CMFS',\n",
      " 'RGB_CMFS',\n",
      " 'STANDARD_OBSERVERS_CMFS',\n",
      " 'ILLUMINANTS',\n",
      " 'D_ILLUMINANTS_S_SDS',\n",
      " 'HUNTERLAB_ILLUMINANTS',\n",
      " 'ILLUMINANTS_SDS',\n",
      " 'LIGHT_SOURCES',\n",
      " 'LIGHT_SOURCES_SDS',\n",
      " 'LEFS',\n",
      " 'PHOTOPIC_LEFS',\n",
      " 'SCOTOPIC_LEFS',\n",
      " 'sd_constant',\n",
      " 'sd_zeros',\n",
      " 'sd_ones',\n",
      " 'SD_GAUSSIAN_METHODS',\n",
      " 'sd_gaussian',\n",
      " 'sd_gaussian_normal',\n",
      " 'sd_gaussian_fwhm',\n",
      " 'SD_SINGLE_LED_METHODS',\n",
      " 'sd_single_led',\n",
      " 'sd_single_led_Ohno2005',\n",
      " 'SD_MULTI_LEDS_METHODS',\n",
      " 'sd_multi_leds',\n",
      " 'sd_multi_leds_Ohno2005',\n",
      " 'SD_TO_XYZ_METHODS',\n",
      " 'MULTI_SD_TO_XYZ_METHODS',\n",
      " 'sd_to_XYZ',\n",
      " 'multi_sds_to_XYZ',\n",
      " 'ASTME30815_PRACTISE_SHAPE',\n",
      " 'lagrange_coefficients_ASTME202211',\n",
      " 'tristimulus_weighting_factors_ASTME202211',\n",
      " 'adjust_tristimulus_weighting_factors_ASTME30815',\n",
      " 'sd_to_XYZ_integration',\n",
      " 'sd_to_XYZ_tristimulus_weighting_factors_ASTME30815',\n",
      " 'sd_to_XYZ_ASTME30815',\n",
      " 'multi_sds_to_XYZ_integration',\n",
      " 'wavelength_to_XYZ',\n",
      " 'BANDPASS_CORRECTION_METHODS',\n",
      " 'bandpass_correction',\n",
      " 'bandpass_correction_Stearns1988',\n",
      " 'sd_CIE_standard_illuminant_A',\n",
      " 'sd_CIE_illuminant_D_series',\n",
      " 'daylight_locus_function',\n",
      " 'sd_mesopic_luminous_efficiency_function',\n",
      " 'mesopic_weighting_function',\n",
      " 'LIGHTNESS_METHODS',\n",
      " 'lightness',\n",
      " 'lightness_Glasser1958',\n",
      " 'lightness_Wyszecki1963',\n",
      " 'lightness_CIE1976',\n",
      " 'lightness_Fairchild2010',\n",
      " 'lightness_Fairchild2011',\n",
      " 'intermediate_lightness_function_CIE1976',\n",
      " 'LUMINANCE_METHODS',\n",
      " 'luminance',\n",
      " 'luminance_Newhall1943',\n",
      " 'luminance_ASTMD153508',\n",
      " 'luminance_CIE1976',\n",
      " 'luminance_Fairchild2010',\n",
      " 'luminance_Fairchild2011',\n",
      " 'intermediate_luminance_function_CIE1976',\n",
      " 'dominant_wavelength',\n",
      " 'complementary_wavelength',\n",
      " 'excitation_purity',\n",
      " 'colorimetric_purity',\n",
      " 'luminous_flux',\n",
      " 'luminous_efficiency',\n",
      " 'luminous_efficacy',\n",
      " 'RGB_10_degree_cmfs_to_LMS_10_degree_cmfs',\n",
      " 'RGB_2_degree_cmfs_to_XYZ_2_degree_cmfs',\n",
      " 'RGB_10_degree_cmfs_to_XYZ_10_degree_cmfs',\n",
      " 'LMS_2_degree_cmfs_to_XYZ_2_degree_cmfs',\n",
      " 'LMS_10_degree_cmfs_to_XYZ_10_degree_cmfs',\n",
      " 'WHITENESS_METHODS',\n",
      " 'whiteness',\n",
      " 'whiteness_Berger1959',\n",
      " 'whiteness_Taube1960',\n",
      " 'whiteness_Stensby1968',\n",
      " 'whiteness_ASTME313',\n",
      " 'whiteness_Ganz1979',\n",
      " 'whiteness_CIE2004',\n",
      " 'YELLOWNESS_METHODS',\n",
      " 'yellowness',\n",
      " 'yellowness_ASTMD1925',\n",
      " 'yellowness_ASTME313']\n"
     ]
    }
   ],
   "source": [
    "from pprint import pprint\n",
    "\n",
    "import colour.colorimetry as colorimetry\n",
    "\n",
    "pprint(colorimetry.__all__)"
   ]
  },
  {
   "cell_type": "markdown",
   "metadata": {},
   "source": [
    "> Note: `colour.colorimetry` sub-package public API is directly available from `colour` namespace."
   ]
  },
  {
   "cell_type": "markdown",
   "metadata": {},
   "source": [
    "[Colour](https://github.com/colour-science/colour/) computations are based on a comprehensive dataset available in pretty much each sub-packages, for example `colour.colorimetry.dataset` defines the following data:"
   ]
  },
  {
   "cell_type": "code",
   "execution_count": 4,
   "metadata": {},
   "outputs": [
    {
     "name": "stdout",
     "output_type": "stream",
     "text": [
      "['CMFS',\n",
      " 'LMS_CMFS',\n",
      " 'RGB_CMFS',\n",
      " 'STANDARD_OBSERVERS_CMFS',\n",
      " 'ILLUMINANTS',\n",
      " 'D_ILLUMINANTS_S_SDS',\n",
      " 'HUNTERLAB_ILLUMINANTS',\n",
      " 'ILLUMINANTS_SDS',\n",
      " 'LIGHT_SOURCES',\n",
      " 'LIGHT_SOURCES_SDS',\n",
      " 'LEFS',\n",
      " 'PHOTOPIC_LEFS',\n",
      " 'SCOTOPIC_LEFS']\n"
     ]
    }
   ],
   "source": [
    "import colour.colorimetry.dataset as dataset\n",
    "\n",
    "pprint(dataset.__all__)"
   ]
  },
  {
   "cell_type": "markdown",
   "metadata": {},
   "source": [
    "> Note: `colour.colorimetry.dataset` sub-package public API is directly available from `colour` namespace."
   ]
  },
  {
   "cell_type": "markdown",
   "metadata": {},
   "source": [
    "## Spectral Distribution"
   ]
  },
  {
   "cell_type": "markdown",
   "metadata": {},
   "source": [
    "Whether it be a sample spectral distribution, colour matching functions or illuminants, spectral data is manipulated using an object built with the `colour.SpectralDistribution` class or based on it:"
   ]
  },
  {
   "cell_type": "code",
   "execution_count": 5,
   "metadata": {},
   "outputs": [
    {
     "name": "stdout",
     "output_type": "stream",
     "text": [
      "[[  3.80000000e+02   4.80000000e-02]\n",
      " [  3.85000000e+02   5.10000000e-02]\n",
      " [  3.90000000e+02   5.50000000e-02]\n",
      " [  3.95000000e+02   6.00000000e-02]\n",
      " [  4.00000000e+02   6.50000000e-02]\n",
      " [  4.05000000e+02   6.80000000e-02]\n",
      " [  4.10000000e+02   6.80000000e-02]\n",
      " [  4.15000000e+02   6.70000000e-02]\n",
      " [  4.20000000e+02   6.40000000e-02]\n",
      " [  4.25000000e+02   6.20000000e-02]\n",
      " [  4.30000000e+02   5.90000000e-02]\n",
      " [  4.35000000e+02   5.70000000e-02]\n",
      " [  4.40000000e+02   5.50000000e-02]\n",
      " [  4.45000000e+02   5.40000000e-02]\n",
      " [  4.50000000e+02   5.30000000e-02]\n",
      " [  4.55000000e+02   5.30000000e-02]\n",
      " [  4.60000000e+02   5.20000000e-02]\n",
      " [  4.65000000e+02   5.20000000e-02]\n",
      " [  4.70000000e+02   5.20000000e-02]\n",
      " [  4.75000000e+02   5.30000000e-02]\n",
      " [  4.80000000e+02   5.40000000e-02]\n",
      " [  4.85000000e+02   5.50000000e-02]\n",
      " [  4.90000000e+02   5.70000000e-02]\n",
      " [  4.95000000e+02   5.90000000e-02]\n",
      " [  5.00000000e+02   6.10000000e-02]\n",
      " [  5.05000000e+02   6.20000000e-02]\n",
      " [  5.10000000e+02   6.50000000e-02]\n",
      " [  5.15000000e+02   6.70000000e-02]\n",
      " [  5.20000000e+02   7.00000000e-02]\n",
      " [  5.25000000e+02   7.20000000e-02]\n",
      " [  5.30000000e+02   7.40000000e-02]\n",
      " [  5.35000000e+02   7.50000000e-02]\n",
      " [  5.40000000e+02   7.60000000e-02]\n",
      " [  5.45000000e+02   7.80000000e-02]\n",
      " [  5.50000000e+02   7.90000000e-02]\n",
      " [  5.55000000e+02   8.20000000e-02]\n",
      " [  5.60000000e+02   8.70000000e-02]\n",
      " [  5.65000000e+02   9.20000000e-02]\n",
      " [  5.70000000e+02   1.00000000e-01]\n",
      " [  5.75000000e+02   1.07000000e-01]\n",
      " [  5.80000000e+02   1.15000000e-01]\n",
      " [  5.85000000e+02   1.22000000e-01]\n",
      " [  5.90000000e+02   1.29000000e-01]\n",
      " [  5.95000000e+02   1.34000000e-01]\n",
      " [  6.00000000e+02   1.38000000e-01]\n",
      " [  6.05000000e+02   1.42000000e-01]\n",
      " [  6.10000000e+02   1.46000000e-01]\n",
      " [  6.15000000e+02   1.50000000e-01]\n",
      " [  6.20000000e+02   1.54000000e-01]\n",
      " [  6.25000000e+02   1.58000000e-01]\n",
      " [  6.30000000e+02   1.63000000e-01]\n",
      " [  6.35000000e+02   1.67000000e-01]\n",
      " [  6.40000000e+02   1.73000000e-01]\n",
      " [  6.45000000e+02   1.80000000e-01]\n",
      " [  6.50000000e+02   1.88000000e-01]\n",
      " [  6.55000000e+02   1.96000000e-01]\n",
      " [  6.60000000e+02   2.04000000e-01]\n",
      " [  6.65000000e+02   2.13000000e-01]\n",
      " [  6.70000000e+02   2.22000000e-01]\n",
      " [  6.75000000e+02   2.31000000e-01]\n",
      " [  6.80000000e+02   2.42000000e-01]\n",
      " [  6.85000000e+02   2.51000000e-01]\n",
      " [  6.90000000e+02   2.61000000e-01]\n",
      " [  6.95000000e+02   2.71000000e-01]\n",
      " [  7.00000000e+02   2.82000000e-01]\n",
      " [  7.05000000e+02   2.94000000e-01]\n",
      " [  7.10000000e+02   3.05000000e-01]\n",
      " [  7.15000000e+02   3.18000000e-01]\n",
      " [  7.20000000e+02   3.34000000e-01]\n",
      " [  7.25000000e+02   3.54000000e-01]\n",
      " [  7.30000000e+02   3.72000000e-01]\n",
      " [  7.35000000e+02   3.92000000e-01]\n",
      " [  7.40000000e+02   4.09000000e-01]\n",
      " [  7.45000000e+02   4.20000000e-01]\n",
      " [  7.50000000e+02   4.36000000e-01]\n",
      " [  7.55000000e+02   4.50000000e-01]\n",
      " [  7.60000000e+02   4.62000000e-01]\n",
      " [  7.65000000e+02   4.65000000e-01]\n",
      " [  7.70000000e+02   4.48000000e-01]\n",
      " [  7.75000000e+02   4.32000000e-01]\n",
      " [  7.80000000e+02   4.21000000e-01]]\n"
     ]
    }
   ],
   "source": [
    "import colour\n",
    "\n",
    "# Defining a sample spectral distribution data.\n",
    "sample_sd_data = {\n",
    "    380: 0.048,\n",
    "    385: 0.051,\n",
    "    390: 0.055,\n",
    "    395: 0.06,\n",
    "    400: 0.065,\n",
    "    405: 0.068,\n",
    "    410: 0.068,\n",
    "    415: 0.067,\n",
    "    420: 0.064,\n",
    "    425: 0.062,\n",
    "    430: 0.059,\n",
    "    435: 0.057,\n",
    "    440: 0.055,\n",
    "    445: 0.054,\n",
    "    450: 0.053,\n",
    "    455: 0.053,\n",
    "    460: 0.052,\n",
    "    465: 0.052,\n",
    "    470: 0.052,\n",
    "    475: 0.053,\n",
    "    480: 0.054,\n",
    "    485: 0.055,\n",
    "    490: 0.057,\n",
    "    495: 0.059,\n",
    "    500: 0.061,\n",
    "    505: 0.062,\n",
    "    510: 0.065,\n",
    "    515: 0.067,\n",
    "    520: 0.070,\n",
    "    525: 0.072,\n",
    "    530: 0.074,\n",
    "    535: 0.075,\n",
    "    540: 0.076,\n",
    "    545: 0.078,\n",
    "    550: 0.079,\n",
    "    555: 0.082,\n",
    "    560: 0.087,\n",
    "    565: 0.092,\n",
    "    570: 0.100,\n",
    "    575: 0.107,\n",
    "    580: 0.115,\n",
    "    585: 0.122,\n",
    "    590: 0.129,\n",
    "    595: 0.134,\n",
    "    600: 0.138,\n",
    "    605: 0.142,\n",
    "    610: 0.146,\n",
    "    615: 0.150,\n",
    "    620: 0.154,\n",
    "    625: 0.158,\n",
    "    630: 0.163,\n",
    "    635: 0.167,\n",
    "    640: 0.173,\n",
    "    645: 0.180,\n",
    "    650: 0.188,\n",
    "    655: 0.196,\n",
    "    660: 0.204,\n",
    "    665: 0.213,\n",
    "    670: 0.222,\n",
    "    675: 0.231,\n",
    "    680: 0.242,\n",
    "    685: 0.251,\n",
    "    690: 0.261,\n",
    "    695: 0.271,\n",
    "    700: 0.282,\n",
    "    705: 0.294,\n",
    "    710: 0.305,\n",
    "    715: 0.318,\n",
    "    720: 0.334,\n",
    "    725: 0.354,\n",
    "    730: 0.372,\n",
    "    735: 0.392,\n",
    "    740: 0.409,\n",
    "    745: 0.420,\n",
    "    750: 0.436,\n",
    "    755: 0.450,\n",
    "    760: 0.462,\n",
    "    765: 0.465,\n",
    "    770: 0.448,\n",
    "    775: 0.432,\n",
    "    780: 0.421}\n",
    "\n",
    "sd = colour.SpectralDistribution(sample_sd_data, name='Sample')\n",
    "print(sd)"
   ]
  },
  {
   "cell_type": "markdown",
   "metadata": {},
   "source": [
    "The sample spectral distribution can be easily plotted against the visible spectrum:"
   ]
  },
  {
   "cell_type": "code",
   "execution_count": 6,
   "metadata": {},
   "outputs": [
    {
     "data": {
      "image/png": "[encoded data removed]",
      "text/plain": [
       "<Figure size 432x288 with 1 Axes>"
      ]
     },
     "metadata": {
      "needs_background": "light"
     },
     "output_type": "display_data"
    }
   ],
   "source": [
    "# Plotting the sample spectral distribution.\n",
    "plot_single_sd(sd);"
   ]
  },
  {
   "cell_type": "markdown",
   "metadata": {},
   "source": [
    "With the sample spectral distribution defined, we can retrieve its shape: "
   ]
  },
  {
   "cell_type": "code",
   "execution_count": 7,
   "metadata": {},
   "outputs": [
    {
     "name": "stdout",
     "output_type": "stream",
     "text": [
      "(380.0, 780.0, 5.0)\n"
     ]
    }
   ],
   "source": [
    "# Displaying the sample spectral distribution shape.\n",
    "print(sd.shape)"
   ]
  },
  {
   "cell_type": "markdown",
   "metadata": {},
   "source": [
    "The shape returned is an instance of `colour.SpectralShape` class:"
   ]
  },
  {
   "cell_type": "code",
   "execution_count": 8,
   "metadata": {},
   "outputs": [
    {
     "data": {
      "text/plain": [
       "'SpectralShape(380.0, 780.0, 5.0)'"
      ]
     },
     "execution_count": 8,
     "metadata": {},
     "output_type": "execute_result"
    }
   ],
   "source": [
    "repr(sd.shape)"
   ]
  },
  {
   "cell_type": "markdown",
   "metadata": {},
   "source": [
    "The `colour.SpectralShape` class is used throughout [Colour](https://github.com/colour-science/colour/) to define spectral dimensions and is instantiated as follows:"
   ]
  },
  {
   "cell_type": "code",
   "execution_count": 9,
   "metadata": {},
   "outputs": [
    {
     "name": "stdout",
     "output_type": "stream",
     "text": [
      "0.0\n",
      "1.0\n",
      "2.0\n",
      "3.0\n",
      "4.0\n",
      "5.0\n",
      "6.0\n",
      "7.0\n",
      "8.0\n",
      "9.0\n",
      "10.0\n"
     ]
    },
    {
     "data": {
      "text/plain": [
       "array([  0. ,   0.5,   1. ,   1.5,   2. ,   2.5,   3. ,   3.5,   4. ,\n",
       "         4.5,   5. ,   5.5,   6. ,   6.5,   7. ,   7.5,   8. ,   8.5,\n",
       "         9. ,   9.5,  10. ])"
      ]
     },
     "execution_count": 9,
     "metadata": {},
     "output_type": "execute_result"
    }
   ],
   "source": [
    "# Using *colour.SpectralShape* with iteration.\n",
    "shape = colour.SpectralShape(start=0, end=10, interval=1)\n",
    "for wavelength in shape:\n",
    "    print(wavelength)\n",
    "\n",
    "# *colour.SpectralShape.range* method is providing the complete range of values. \n",
    "shape = colour.SpectralShape(0, 10, 0.5)\n",
    "shape.range()"
   ]
  },
  {
   "cell_type": "markdown",
   "metadata": {},
   "source": [
    "[Colour](https://github.com/colour-science/colour/) defines three convenient objects to create constant spectral distributions:\n",
    "\n",
    "*  `colour.sd_constant`\n",
    "*  `colour.sd_zeros`\n",
    "*  `colour.sd_ones`"
   ]
  },
  {
   "cell_type": "code",
   "execution_count": 10,
   "metadata": {},
   "outputs": [
    {
     "name": "stdout",
     "output_type": "stream",
     "text": [
      "\"Constant Spectral Distribution\"\n",
      "(360.0, 780.0, 1.0)\n",
      "100.0\n",
      "\n",
      "\"Zeros Filled Spectral Distribution\"\n",
      "(360.0, 780.0, 1.0)\n",
      "0.0\n",
      "\n",
      "\"Ones Filled Spectral Distribution\"\n",
      "(360.0, 780.0, 1.0)\n",
      "1.0\n"
     ]
    }
   ],
   "source": [
    "# Defining a constant spectral distribution.\n",
    "constant_sd = colour.sd_constant(100)\n",
    "print('\"Constant Spectral Distribution\"')\n",
    "print(constant_sd.shape)\n",
    "print(constant_sd[400])\n",
    "\n",
    "# Defining a zeros filled spectral distribution.\n",
    "print('\\n\"Zeros Filled Spectral Distribution\"')\n",
    "zeros_sd = colour.sd_zeros()\n",
    "print(zeros_sd.shape)\n",
    "print(zeros_sd[400])\n",
    "\n",
    "# Defining a ones filled spectral distribution.\n",
    "print('\\n\"Ones Filled Spectral Distribution\"')\n",
    "ones_sd = colour.sd_ones()\n",
    "print(ones_sd.shape)\n",
    "print(ones_sd[400])"
   ]
  },
  {
   "cell_type": "markdown",
   "metadata": {},
   "source": [
    "By default the shape used by `colour.sd_constant`, `colour.sd_zeros` and `colour.sd_ones` is the one defined by `colour.DEFAULT_SPECTRAL_SHAPE` attribute using the *CIE 1931 2° Standard Observer* shape."
   ]
  },
  {
   "cell_type": "code",
   "execution_count": 11,
   "metadata": {},
   "outputs": [
    {
     "name": "stdout",
     "output_type": "stream",
     "text": [
      "SpectralShape(360, 780, 1)\n"
     ]
    }
   ],
   "source": [
    "print(repr(colour.DEFAULT_SPECTRAL_SHAPE))"
   ]
  },
  {
   "cell_type": "markdown",
   "metadata": {},
   "source": [
    "A custom shape can be passed to construct a constant spectral distribution with tailored dimensions:"
   ]
  },
  {
   "cell_type": "code",
   "execution_count": 12,
   "metadata": {},
   "outputs": [
    {
     "data": {
      "text/plain": [
       "1.0"
      ]
     },
     "execution_count": 12,
     "metadata": {},
     "output_type": "execute_result"
    }
   ],
   "source": [
    "colour.sd_ones(colour.SpectralShape(400, 700, 5))[450]"
   ]
  },
  {
   "cell_type": "markdown",
   "metadata": {},
   "source": [
    "Often interpolation of the spectral distribution is needed, this is achieved with the `colour.SpectralDistribution.interpolate` method. Depending on the wavelengths uniformity, the default interpolation method will differ. Following *CIE 167:2005* recommendation: The method developed by Sprague (1880) should be used for interpolating functions having a uniformly spaced independent variable and a *Cubic Spline* method for non-uniformly spaced independent variable. <a name=\"back_reference_4\"></a><a href=\"#reference_4\">[4]</a>\n",
    "\n",
    "We can check the uniformity of the sample spectral distribution:"
   ]
  },
  {
   "cell_type": "code",
   "execution_count": 13,
   "metadata": {},
   "outputs": [
    {
     "name": "stdout",
     "output_type": "stream",
     "text": [
      "True\n"
     ]
    }
   ],
   "source": [
    "# Checking the sample spectral distribution uniformity.\n",
    "print(sd.is_uniform())"
   ]
  },
  {
   "cell_type": "markdown",
   "metadata": {},
   "source": [
    "Since the sample spectral distribution is uniform the interpolation will be using the `colour.SpragueInterpolator` interpolator.\n",
    "\n",
    "> Note: Interpolation happens in place and may alter your original data, use the `colour.SpectralDistribution.copy` method to produce a copy of your spectral distribution before interpolation."
   ]
  },
  {
   "cell_type": "code",
   "execution_count": 14,
   "metadata": {},
   "outputs": [
    {
     "data": {
      "text/plain": [
       "0.065809599999999996"
      ]
     },
     "execution_count": 14,
     "metadata": {},
     "output_type": "execute_result"
    }
   ],
   "source": [
    "# Copying the sample spectral distribution.\n",
    "sd_copy = sd.copy()\n",
    "\n",
    "# Interpolating the copied sample spectral distribution.\n",
    "sd_copy.interpolate(colour.SpectralShape(400, 770, 1))\n",
    "sd_copy[401]"
   ]
  },
  {
   "cell_type": "code",
   "execution_count": 15,
   "metadata": {},
   "outputs": [
    {
     "data": {
      "image/png": "[encoded data removed]",
      "text/plain": [
       "<Figure size 432x288 with 1 Axes>"
      ]
     },
     "metadata": {
      "needs_background": "light"
     },
     "output_type": "display_data"
    }
   ],
   "source": [
    "# Comparing the interpolated spectral distribution with the original one.\n",
    "plot_multi_sds([sd, sd_copy], bounding_box=[730,780, 0.1, 0.5]);"
   ]
  },
  {
   "cell_type": "markdown",
   "metadata": {},
   "source": [
    "Extrapolation although dangerous can be used to help aligning two spectral distributions together. *CIE 015:2004 Colorimetry, 3rd Edition* recommends that unmeasured values may be set equal to the nearest measured value of the appropriate quantity in truncation: <a name=\"back_reference_5\"></a><a href=\"#reference_5\">[5]</a>"
   ]
  },
  {
   "cell_type": "code",
   "execution_count": 16,
   "metadata": {},
   "outputs": [
    {
     "data": {
      "text/plain": [
       "(0.064999999999999947, 0.44800000000000018)"
      ]
     },
     "execution_count": 16,
     "metadata": {},
     "output_type": "execute_result"
    }
   ],
   "source": [
    "# Extrapolating the copied sample spectral distribution.\n",
    "sd_copy.extrapolate(colour.SpectralShape(340, 830))\n",
    "sd_copy[340], sd_copy[830]"
   ]
  },
  {
   "cell_type": "markdown",
   "metadata": {},
   "source": [
    "The underlying interpolator can be swapped for any of the *Colour* interpolators."
   ]
  },
  {
   "cell_type": "code",
   "execution_count": 17,
   "metadata": {},
   "outputs": [
    {
     "name": "stdout",
     "output_type": "stream",
     "text": [
      "['KernelInterpolator',\n",
      " 'NearestNeighbourInterpolator',\n",
      " 'LinearInterpolator',\n",
      " 'SpragueInterpolator',\n",
      " 'CubicSplineInterpolator',\n",
      " 'PchipInterpolator',\n",
      " 'NullInterpolator']\n"
     ]
    }
   ],
   "source": [
    "pprint([\n",
    "    export for export in colour.algebra.interpolation.__all__\n",
    "    if 'Interpolator' in export\n",
    "])"
   ]
  },
  {
   "cell_type": "code",
   "execution_count": 18,
   "metadata": {},
   "outputs": [
    {
     "data": {
      "text/plain": [
       "SpectralDistribution([[  4.00000000e+02,   6.50000000e-02],\n",
       "                      [  4.10000000e+02,   6.80000000e-02],\n",
       "                      [  4.20000000e+02,   6.40000000e-02],\n",
       "                      [  4.30000000e+02,   5.90000000e-02],\n",
       "                      [  4.40000000e+02,   5.50000000e-02],\n",
       "                      [  4.50000000e+02,   5.30000000e-02],\n",
       "                      [  4.60000000e+02,   5.20000000e-02],\n",
       "                      [  4.70000000e+02,   5.20000000e-02],\n",
       "                      [  4.80000000e+02,   5.40000000e-02],\n",
       "                      [  4.90000000e+02,   5.70000000e-02],\n",
       "                      [  5.00000000e+02,   6.10000000e-02],\n",
       "                      [  5.10000000e+02,   6.50000000e-02],\n",
       "                      [  5.20000000e+02,   7.00000000e-02],\n",
       "                      [  5.30000000e+02,   7.40000000e-02],\n",
       "                      [  5.40000000e+02,   7.60000000e-02],\n",
       "                      [  5.50000000e+02,   7.90000000e-02],\n",
       "                      [  5.60000000e+02,   8.70000000e-02],\n",
       "                      [  5.70000000e+02,   1.00000000e-01],\n",
       "                      [  5.80000000e+02,   1.15000000e-01],\n",
       "                      [  5.90000000e+02,   1.29000000e-01],\n",
       "                      [  6.00000000e+02,   1.38000000e-01],\n",
       "                      [  6.10000000e+02,   1.46000000e-01],\n",
       "                      [  6.20000000e+02,   1.54000000e-01],\n",
       "                      [  6.30000000e+02,   1.63000000e-01],\n",
       "                      [  6.40000000e+02,   1.73000000e-01],\n",
       "                      [  6.50000000e+02,   1.88000000e-01],\n",
       "                      [  6.60000000e+02,   2.04000000e-01],\n",
       "                      [  6.70000000e+02,   2.22000000e-01],\n",
       "                      [  6.80000000e+02,   2.42000000e-01],\n",
       "                      [  6.90000000e+02,   2.61000000e-01],\n",
       "                      [  7.00000000e+02,   2.82000000e-01]],\n",
       "                     interpolator=SpragueInterpolator,\n",
       "                     interpolator_args={},\n",
       "                     extrapolator=Extrapolator,\n",
       "                     extrapolator_args={'method': 'Constant', 'left': None, 'right': None})"
      ]
     },
     "execution_count": 18,
     "metadata": {},
     "output_type": "execute_result"
    }
   ],
   "source": [
    "# Changing interpolator while trimming the copied spectral distribution.\n",
    "sd_copy.interpolate(\n",
    "    colour.SpectralShape(400, 700, 10), interpolator=colour.LinearInterpolator)"
   ]
  },
  {
   "cell_type": "markdown",
   "metadata": {},
   "source": [
    "The extrapolation behaviour can be changed for `Linear` method instead of the `Constant` default method or even use arbitrary constant `left` and `right` values:"
   ]
  },
  {
   "cell_type": "code",
   "execution_count": 19,
   "metadata": {},
   "outputs": [
    {
     "data": {
      "text/plain": [
       "(0.046999999999999341, 0.0)"
      ]
     },
     "execution_count": 19,
     "metadata": {},
     "output_type": "execute_result"
    }
   ],
   "source": [
    "# Extrapolating the copied sample spectral distribution with *Linear* method.\n",
    "sd_copy.extrapolate(\n",
    "    colour.SpectralShape(340, 830),\n",
    "    extrapolator_args={'method': 'Linear',\n",
    "                       'right': 0})\n",
    "sd_copy[340], sd_copy[830]"
   ]
  },
  {
   "cell_type": "markdown",
   "metadata": {},
   "source": [
    "Aligning a spectral distribution is a convenient way to first interpolate the current data within its original bounds then if needed extrapolates any missing values to match the requested shape:"
   ]
  },
  {
   "cell_type": "code",
   "execution_count": 20,
   "metadata": {},
   "outputs": [
    {
     "data": {
      "text/plain": [
       "(0.064999999999999974, 0.28199999999999986)"
      ]
     },
     "execution_count": 20,
     "metadata": {},
     "output_type": "execute_result"
    }
   ],
   "source": [
    "# Aligning the cloned sample spectral distribution.\n",
    "# We first trim the spectral distribution as above.\n",
    "sd_copy.interpolate(colour.SpectralShape(400, 700))  \n",
    "sd_copy.align(colour.SpectralShape(340, 830, 5))\n",
    "sd_copy[340], sd_copy[830]"
   ]
  },
  {
   "cell_type": "markdown",
   "metadata": {},
   "source": [
    "The `colour.SpectralDistribution` class also supports various arithmetic operations like *addition*, *subtraction*, *multiplication*, *division* or *exponentiation* with *numeric* and *array_like* variables or other `colour.SpectralDistribution` class instances:"
   ]
  },
  {
   "cell_type": "code",
   "execution_count": 21,
   "metadata": {},
   "outputs": [
    {
     "name": "stdout",
     "output_type": "stream",
     "text": [
      "[ 1.25  1.5   1.75  2.    1.75  1.5   1.25]\n",
      "[ 0.5  1.   1.5  2.   1.5  1.   0.5]\n",
      "[ 0.0875  0.775   0.5625  2.55    0.7125  0.325   0.0375]\n",
      "[ 1.5  3.   4.5  6.   4.5  3.   nan  1.5]\n"
     ]
    }
   ],
   "source": [
    "sd = colour.SpectralDistribution({\n",
    "    410: 0.25,\n",
    "    420: 0.50,\n",
    "    430: 0.75,\n",
    "    440: 1.0,\n",
    "    450: 0.75,\n",
    "    460: 0.50,\n",
    "    480: 0.25\n",
    "})\n",
    "\n",
    "print((sd.copy() + 1).values)\n",
    "print((sd.copy() * 2).values)\n",
    "print((sd * [0.35, 1.55, 0.75, 2.55, 0.95, 0.65, 0.15]).values)\n",
    "print((sd * colour.sd_constant(2, sd.shape) * colour.sd_constant(3, sd.shape)).values)"
   ]
  },
  {
   "cell_type": "markdown",
   "metadata": {},
   "source": [
    "The spectral distribution can be normalised with an arbitrary factor:"
   ]
  },
  {
   "cell_type": "code",
   "execution_count": 22,
   "metadata": {},
   "outputs": [
    {
     "name": "stdout",
     "output_type": "stream",
     "text": [
      "[ 0.25  0.5   0.75  1.    0.75  0.5   0.25]\n",
      "[  25.   50.   75.  100.   75.   50.   25.]\n"
     ]
    }
   ],
   "source": [
    "print(sd.normalise().values)\n",
    "print(sd.normalise(100).values)"
   ]
  },
  {
   "cell_type": "markdown",
   "metadata": {},
   "source": [
    "## Colour Matching Functions"
   ]
  },
  {
   "cell_type": "markdown",
   "metadata": {},
   "source": [
    "In the late 1920's, Wright (1928) and Guild (1931) independently conducted a series of colour matching experiments to quantify the colour ability of an average human observer which laid the foundation for the specification of the [CIE XYZ colourspace](http://en.wikipedia.org/wiki/CIE_color_space#Definition_of_the_CIE_XYZ_color_space). The results obtained were summarized by the *Wright & Guild 1931 2° RGB CMFs* $\\bar{r}(\\lambda)$,$\\bar{g}(\\lambda)$,$\\bar{b}(\\lambda)$ colour matching functions: they represent the amounts of three monochromatic primary colours $\\textbf{R}$,$\\textbf{G}$,$\\textbf{B}$ needed to match the test colour at a single wavelength of light.\n",
    "\n",
    "> See Also: The [Colour Matching Functions](cmfs.ipynb) notebook for in-depth information about the colour matching functions."
   ]
  },
  {
   "cell_type": "code",
   "execution_count": 23,
   "metadata": {},
   "outputs": [
    {
     "data": {
      "image/png": "[encoded data removed]",
      "text/plain": [
       "<Figure size 432x288 with 1 Axes>"
      ]
     },
     "metadata": {
      "needs_background": "light"
     },
     "output_type": "display_data"
    }
   ],
   "source": [
    "# Plotting *Wright & Guild 1931 2 Degree RGB CMFs* colour matching functions.\n",
    "plot_single_cmfs('Wright & Guild 1931 2 Degree RGB CMFs');"
   ]
  },
  {
   "cell_type": "markdown",
   "metadata": {},
   "source": [
    "With an RGB model of human vision based on *Wright & Guild 1931 2° RGB CMFs* $\\bar{r}(\\lambda)$,$\\bar{g}(\\lambda)$,$\\bar{b}(\\lambda)$ colour matching functions and for pragmatic reasons the *CIE* members developed a new colour space that would relate to the *CIE RGB* colourspace but for which all tristimulus values would be positive for real colours: *CIE XYZ* described with $\\bar{x}(\\lambda)$,$\\bar{y}(\\lambda)$,$\\bar{z}(\\lambda)$ colour matching functions."
   ]
  },
  {
   "cell_type": "code",
   "execution_count": 24,
   "metadata": {},
   "outputs": [
    {
     "data": {
      "image/png": "[encoded data removed]",
      "text/plain": [
       "<Figure size 432x288 with 1 Axes>"
      ]
     },
     "metadata": {
      "needs_background": "light"
     },
     "output_type": "display_data"
    }
   ],
   "source": [
    "# Plotting *CIE XYZ 1931 2 Degree Standard Observer* colour matching functions.\n",
    "plot_single_cmfs('CIE 1931 2 Degree Standard Observer');"
   ]
  },
  {
   "cell_type": "markdown",
   "metadata": {},
   "source": [
    "In the 1960's it appeared that cones were present in a larger region of eye than the one initially covered by the experiments that lead to the *CIE 1931 2° Standard Observer* specification.\n",
    "\n",
    "As a result, colour computations done with the *CIE 1931 2° Standard Observer* do not always correlate to the visual observation.\n",
    "\n",
    "In 1964, the *CIE* defined an additional standard observer: the *CIE 1964 10° Standard Observer* derived from the work of Stiles and Burch (1959), and Speranskaya (1959). The *CIE 1964 10° Standard Observer* is believed to be a better representation of the human vision spectral response and recommended when dealing with a field of view of more than 4°.\n",
    "\n",
    "For example and as per *CIE* recommendation, the *CIE 1964 10° Standard Observer* is commonly used with spectrophotometers for colour measurements whereas colorimeters generally use the *CIE 1931 2° Standard Observer* for quality control and other colour evaluation applications."
   ]
  },
  {
   "cell_type": "markdown",
   "metadata": {},
   "source": [
    "## CIE XYZ Tristimulus Values"
   ]
  },
  {
   "cell_type": "markdown",
   "metadata": {},
   "source": [
    "The *CIE XYZ* tristimulus values specify a colour stimulus in terms of the visual system. Their values for colour of a surface with spectral reflectance $\\beta(\\lambda)$ under an illuminant of spectral $S(\\lambda)$ are calculated using the following equations: <a name=\"back_reference_6\"></a><a href=\"#reference_6\">[6]</a>\n",
    "\n",
    "$$\n",
    "\\begin{equation}\n",
    "X=k\\int_{\\lambda}\\beta(\\lambda)S(\\lambda)\\bar{x}(\\lambda)d\\lambda\\\\\n",
    "Y=k\\int_{\\lambda}\\beta(\\lambda)S(\\lambda)\\bar{y}(\\lambda)d\\lambda\\\\\n",
    "Z=k\\int_{\\lambda}\\beta(\\lambda)S(\\lambda)\\bar{z}(\\lambda)d\\lambda\n",
    "\\end{equation}\n",
    "$$\n",
    "where\n",
    "$$\n",
    "\\begin{equation}\n",
    "k=\\cfrac{100}{\\int_{\\lambda}S(\\lambda)\\bar{y}(\\lambda)d\\lambda}\n",
    "\\end{equation}\n",
    "$$\n",
    "\n",
    "However in virtually all practical computations of *CIE XYZ* tristimulus values, the integrals are replaced by summations:\n",
    "\n",
    "$$\n",
    "\\begin{equation}\n",
    "X=k\\sum\\limits_{\\lambda=\\lambda_a}^{\\lambda_b}\\beta(\\lambda)S(\\lambda)\\bar{x}(\\lambda)\\Delta\\lambda\\\\\n",
    "Y=k\\sum\\limits_{\\lambda=\\lambda_a}^{\\lambda_b}\\beta(\\lambda)S(\\lambda)\\bar{y}(\\lambda)\\Delta\\lambda\\\\\n",
    "Z=k\\sum\\limits_{\\lambda=\\lambda_a}^{\\lambda_b}\\beta(\\lambda)S(\\lambda)\\bar{z}(\\lambda)\\Delta\\lambda\\\\\n",
    "\\end{equation}\n",
    "$$\n",
    "where\n",
    "$$\n",
    "\\begin{equation}\n",
    "k=\\cfrac{100}{\\sum\\limits_{\\lambda=\\lambda_a}^{\\lambda_b}S(\\lambda)\\bar{y}(\\lambda)\\Delta\\lambda}\n",
    "\\end{equation}\n",
    "$$\n",
    "\n",
    "Calculating the *CIE XYZ* tristimulus values of a colour stimulus is done using the `colour.sd_to_XYZ` definition which follows *ASTM E2022–11* and *ASTM E308–15* practises computation method:"
   ]
  },
  {
   "cell_type": "code",
   "execution_count": 25,
   "metadata": {},
   "outputs": [
    {
     "data": {
      "text/plain": [
       "array([ 14.78676625,  10.97815867,   1.99023459])"
      ]
     },
     "execution_count": 25,
     "metadata": {},
     "output_type": "execute_result"
    }
   ],
   "source": [
    "sd = colour.SpectralDistribution(sample_sd_data, name='Sample')\n",
    "cmfs = colour.STANDARD_OBSERVERS_CMFS['CIE 1931 2 Degree Standard Observer']\n",
    "illuminant = colour.ILLUMINANTS_SDS['A']\n",
    "\n",
    "# Calculating the sample spectral distribution *CIE XYZ* tristimulus values.\n",
    "colour.sd_to_XYZ(sd, cmfs, illuminant)"
   ]
  },
  {
   "cell_type": "markdown",
   "metadata": {},
   "source": [
    "> Note: Output *CIE XYZ* colourspace matrix is in domain [0, 100].\n",
    "\n",
    "*CIE XYZ* tristimulus values can be plotted into the *CIE 1931 Chromaticity Diagram*:"
   ]
  },
  {
   "cell_type": "code",
   "execution_count": 26,
   "metadata": {},
   "outputs": [
    {
     "data": {
      "image/png": "[encoded data removed]",
      "text/plain": [
       "<Figure size 432x432 with 1 Axes>"
      ]
     },
     "metadata": {
      "needs_background": "light"
     },
     "output_type": "display_data"
    }
   ],
   "source": [
    "import pylab\n",
    "\n",
    "# Plotting the *CIE 1931 Chromaticity Diagram*.\n",
    "# The argument *standalone=False* is passed so that the plot doesn't get displayed\n",
    "# and can be used as a basis for other plots.\n",
    "plot_chromaticity_diagram_CIE1931(standalone=False)\n",
    "\n",
    "# Calculating the *xy* chromaticity coordinates.\n",
    "# The output domain of *colour.spectral_to_XYZ* is [0, 100] and \n",
    "# the input domain of *colour.XYZ_to_sRGB* is [0, 1].\n",
    "# We need to take it in account and rescale the input *CIE XYZ* colourspace matrix.\n",
    "x, y = colour.XYZ_to_xy(colour.sd_to_XYZ(sd, cmfs, illuminant) / 100)\n",
    "\n",
    "# Plotting the *xy* chromaticity coordinates.\n",
    "pylab.plot(x, y, 'o-', color='white')\n",
    "\n",
    "# Annotating the plot.\n",
    "pylab.annotate(sd.name,\n",
    "               xy=(x, y),\n",
    "               xytext=(-50, 30),\n",
    "               textcoords='offset points',\n",
    "               arrowprops=dict(arrowstyle='->', connectionstyle='arc3, rad=-0.2'))\n",
    "\n",
    "# Displaying the plot.\n",
    "render(standalone=True);"
   ]
  },
  {
   "cell_type": "markdown",
   "metadata": {},
   "source": [
    "Retrieving the *CIE XYZ* tristimulus values of any wavelength from colour matching functions is done using the `colour.wavelength_to_XYZ` definition, if the value requested is not available, the colour matching functions will be interpolated following *CIE 167:2005* recommendation:"
   ]
  },
  {
   "cell_type": "code",
   "execution_count": 27,
   "metadata": {},
   "outputs": [
    {
     "data": {
      "text/plain": [
       "array([ 0.3755316 ,  0.98444552,  0.01220285])"
      ]
     },
     "execution_count": 27,
     "metadata": {},
     "output_type": "execute_result"
    }
   ],
   "source": [
    "colour.wavelength_to_XYZ(546.1, colour.STANDARD_OBSERVERS_CMFS['CIE 1931 2 Degree Standard Observer'])"
   ]
  },
  {
   "cell_type": "markdown",
   "metadata": {},
   "source": [
    "## Bibliography"
   ]
  },
  {
   "cell_type": "markdown",
   "metadata": {},
   "source": [
    "1. <a href=\"#back_reference_1\">^<a> <a name=\"reference_1\"></a>CIE. (n.d.). 17-198 colour (perceived). Retrieved June 26, 2014, from http://eilv.cie.co.at/term/198\n",
    "2. <a href=\"#back_reference_2\">^<a> <a name=\"reference_2\"></a>CIE. (n.d.). 17-659 light. Retrieved June 26, 2014, from http://eilv.cie.co.at/term/659\n",
    "3. <a href=\"#back_reference_3\">^<a> <a name=\"reference_3\"></a>CIE. (n.d.). 17-1238 spectrum. Retrieved June 27, 2014, from http://eilv.cie.co.at/term/1238\n",
    "4. <a href=\"#back_reference_4\">^<a> <a name=\"reference_4\"></a>CIE TC 1-38. (2005). 9. INTERPOLATION. In CIE 167:2005 Recommended Practice for Tabulating Spectral Data for Use in Colour Computations (pp. 14–19). ISBN:978-3-901-90641-1\n",
    "5. <a href=\"#back_reference_5\">^<a> <a name=\"reference_5\"></a>CIE TC 1-48. (2004). CIE 015:2004 Colorimetry, 3rd Edition. CIE 015:2004 Colorimetry, 3rd Edition (pp. 1–82). ISBN:978-3-901-90633-6\n",
    "6. <a href=\"#back_reference_6\">^<a> <a name=\"reference_6\"></a>Wyszecki, G., & Stiles, W. S. (2000). Integration Replace by Summation. In *Color Science: Concepts and Methods, Quantitative Data and Formulae* (pp. 158–163). Wiley. ISBN:978-0471399186"
   ]
  }
 ],
 "metadata": {
  "kernelspec": {
   "display_name": "Python 3",
   "language": "python",
   "name": "python3"
  },
  "language_info": {
   "codemirror_mode": {
    "name": "ipython",
    "version": 3
   },
   "file_extension": ".py",
   "mimetype": "text/x-python",
   "name": "python",
   "nbconvert_exporter": "python",
   "pygments_lexer": "ipython3",
   "version": "3.7.1"
  }
 },
 "nbformat": 4,
 "nbformat_minor": 2
}
